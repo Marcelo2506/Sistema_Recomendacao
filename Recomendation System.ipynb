{
 "cells": [
  {
   "cell_type": "markdown",
   "id": "484727a2",
   "metadata": {},
   "source": [
    "# Criando um sistema de recomendação para filmes"
   ]
  },
  {
   "cell_type": "code",
   "execution_count": null,
   "id": "22b621f6",
   "metadata": {},
   "outputs": [],
   "source": []
  },
  {
   "cell_type": "code",
   "execution_count": 1,
   "id": "59dba185",
   "metadata": {},
   "outputs": [],
   "source": [
    "#Bibliotecas\n",
    "import pandas as pd\n",
    "import numpy as np"
   ]
  },
  {
   "cell_type": "code",
   "execution_count": 15,
   "id": "9e95438d",
   "metadata": {},
   "outputs": [
    {
     "data": {
      "text/html": [
       "<div>\n",
       "<style scoped>\n",
       "    .dataframe tbody tr th:only-of-type {\n",
       "        vertical-align: middle;\n",
       "    }\n",
       "\n",
       "    .dataframe tbody tr th {\n",
       "        vertical-align: top;\n",
       "    }\n",
       "\n",
       "    .dataframe thead th {\n",
       "        text-align: right;\n",
       "    }\n",
       "</style>\n",
       "<table border=\"1\" class=\"dataframe\">\n",
       "  <thead>\n",
       "    <tr style=\"text-align: right;\">\n",
       "      <th></th>\n",
       "      <th>adult</th>\n",
       "      <th>belongs_to_collection</th>\n",
       "      <th>budget</th>\n",
       "      <th>genres</th>\n",
       "      <th>homepage</th>\n",
       "      <th>id</th>\n",
       "      <th>imdb_id</th>\n",
       "      <th>original_language</th>\n",
       "      <th>original_title</th>\n",
       "      <th>overview</th>\n",
       "      <th>...</th>\n",
       "      <th>release_date</th>\n",
       "      <th>revenue</th>\n",
       "      <th>runtime</th>\n",
       "      <th>spoken_languages</th>\n",
       "      <th>status</th>\n",
       "      <th>tagline</th>\n",
       "      <th>title</th>\n",
       "      <th>video</th>\n",
       "      <th>vote_average</th>\n",
       "      <th>vote_count</th>\n",
       "    </tr>\n",
       "  </thead>\n",
       "  <tbody>\n",
       "    <tr>\n",
       "      <th>0</th>\n",
       "      <td>False</td>\n",
       "      <td>{'id': 10194, 'name': 'Toy Story Collection', ...</td>\n",
       "      <td>30000000</td>\n",
       "      <td>[{'id': 16, 'name': 'Animation'}, {'id': 35, '...</td>\n",
       "      <td>http://toystory.disney.com/toy-story</td>\n",
       "      <td>862</td>\n",
       "      <td>tt0114709</td>\n",
       "      <td>en</td>\n",
       "      <td>Toy Story</td>\n",
       "      <td>Led by Woody, Andy's toys live happily in his ...</td>\n",
       "      <td>...</td>\n",
       "      <td>1995-10-30</td>\n",
       "      <td>373554033.0</td>\n",
       "      <td>81.0</td>\n",
       "      <td>[{'iso_639_1': 'en', 'name': 'English'}]</td>\n",
       "      <td>Released</td>\n",
       "      <td>NaN</td>\n",
       "      <td>Toy Story</td>\n",
       "      <td>False</td>\n",
       "      <td>7.7</td>\n",
       "      <td>5415.0</td>\n",
       "    </tr>\n",
       "    <tr>\n",
       "      <th>1</th>\n",
       "      <td>False</td>\n",
       "      <td>NaN</td>\n",
       "      <td>65000000</td>\n",
       "      <td>[{'id': 12, 'name': 'Adventure'}, {'id': 14, '...</td>\n",
       "      <td>NaN</td>\n",
       "      <td>8844</td>\n",
       "      <td>tt0113497</td>\n",
       "      <td>en</td>\n",
       "      <td>Jumanji</td>\n",
       "      <td>When siblings Judy and Peter discover an encha...</td>\n",
       "      <td>...</td>\n",
       "      <td>1995-12-15</td>\n",
       "      <td>262797249.0</td>\n",
       "      <td>104.0</td>\n",
       "      <td>[{'iso_639_1': 'en', 'name': 'English'}, {'iso...</td>\n",
       "      <td>Released</td>\n",
       "      <td>Roll the dice and unleash the excitement!</td>\n",
       "      <td>Jumanji</td>\n",
       "      <td>False</td>\n",
       "      <td>6.9</td>\n",
       "      <td>2413.0</td>\n",
       "    </tr>\n",
       "    <tr>\n",
       "      <th>2</th>\n",
       "      <td>False</td>\n",
       "      <td>{'id': 119050, 'name': 'Grumpy Old Men Collect...</td>\n",
       "      <td>0</td>\n",
       "      <td>[{'id': 10749, 'name': 'Romance'}, {'id': 35, ...</td>\n",
       "      <td>NaN</td>\n",
       "      <td>15602</td>\n",
       "      <td>tt0113228</td>\n",
       "      <td>en</td>\n",
       "      <td>Grumpier Old Men</td>\n",
       "      <td>A family wedding reignites the ancient feud be...</td>\n",
       "      <td>...</td>\n",
       "      <td>1995-12-22</td>\n",
       "      <td>0.0</td>\n",
       "      <td>101.0</td>\n",
       "      <td>[{'iso_639_1': 'en', 'name': 'English'}]</td>\n",
       "      <td>Released</td>\n",
       "      <td>Still Yelling. Still Fighting. Still Ready for...</td>\n",
       "      <td>Grumpier Old Men</td>\n",
       "      <td>False</td>\n",
       "      <td>6.5</td>\n",
       "      <td>92.0</td>\n",
       "    </tr>\n",
       "  </tbody>\n",
       "</table>\n",
       "<p>3 rows × 24 columns</p>\n",
       "</div>"
      ],
      "text/plain": [
       "   adult                              belongs_to_collection    budget  \\\n",
       "0  False  {'id': 10194, 'name': 'Toy Story Collection', ...  30000000   \n",
       "1  False                                                NaN  65000000   \n",
       "2  False  {'id': 119050, 'name': 'Grumpy Old Men Collect...         0   \n",
       "\n",
       "                                              genres  \\\n",
       "0  [{'id': 16, 'name': 'Animation'}, {'id': 35, '...   \n",
       "1  [{'id': 12, 'name': 'Adventure'}, {'id': 14, '...   \n",
       "2  [{'id': 10749, 'name': 'Romance'}, {'id': 35, ...   \n",
       "\n",
       "                               homepage     id    imdb_id original_language  \\\n",
       "0  http://toystory.disney.com/toy-story    862  tt0114709                en   \n",
       "1                                   NaN   8844  tt0113497                en   \n",
       "2                                   NaN  15602  tt0113228                en   \n",
       "\n",
       "     original_title                                           overview  ...  \\\n",
       "0         Toy Story  Led by Woody, Andy's toys live happily in his ...  ...   \n",
       "1           Jumanji  When siblings Judy and Peter discover an encha...  ...   \n",
       "2  Grumpier Old Men  A family wedding reignites the ancient feud be...  ...   \n",
       "\n",
       "  release_date      revenue runtime  \\\n",
       "0   1995-10-30  373554033.0    81.0   \n",
       "1   1995-12-15  262797249.0   104.0   \n",
       "2   1995-12-22          0.0   101.0   \n",
       "\n",
       "                                    spoken_languages    status  \\\n",
       "0           [{'iso_639_1': 'en', 'name': 'English'}]  Released   \n",
       "1  [{'iso_639_1': 'en', 'name': 'English'}, {'iso...  Released   \n",
       "2           [{'iso_639_1': 'en', 'name': 'English'}]  Released   \n",
       "\n",
       "                                             tagline             title  video  \\\n",
       "0                                                NaN         Toy Story  False   \n",
       "1          Roll the dice and unleash the excitement!           Jumanji  False   \n",
       "2  Still Yelling. Still Fighting. Still Ready for...  Grumpier Old Men  False   \n",
       "\n",
       "  vote_average vote_count  \n",
       "0          7.7     5415.0  \n",
       "1          6.9     2413.0  \n",
       "2          6.5       92.0  \n",
       "\n",
       "[3 rows x 24 columns]"
      ]
     },
     "execution_count": 15,
     "metadata": {},
     "output_type": "execute_result"
    }
   ],
   "source": [
    "#Utilizaremos 2 datasets neste projeto!\n",
    "filmes = pd.read_csv('movies_metadata.csv', low_memory= False)#'LOW_MEMORY= FALSE' Não exige que classifique TODAS as variaveis, optimizando o tempo\n",
    "filmes.head(3)"
   ]
  },
  {
   "cell_type": "code",
   "execution_count": 16,
   "id": "f87ace18",
   "metadata": {
    "scrolled": true
   },
   "outputs": [
    {
     "data": {
      "text/html": [
       "<div>\n",
       "<style scoped>\n",
       "    .dataframe tbody tr th:only-of-type {\n",
       "        vertical-align: middle;\n",
       "    }\n",
       "\n",
       "    .dataframe tbody tr th {\n",
       "        vertical-align: top;\n",
       "    }\n",
       "\n",
       "    .dataframe thead th {\n",
       "        text-align: right;\n",
       "    }\n",
       "</style>\n",
       "<table border=\"1\" class=\"dataframe\">\n",
       "  <thead>\n",
       "    <tr style=\"text-align: right;\">\n",
       "      <th></th>\n",
       "      <th>userId</th>\n",
       "      <th>movieId</th>\n",
       "      <th>rating</th>\n",
       "      <th>timestamp</th>\n",
       "    </tr>\n",
       "  </thead>\n",
       "  <tbody>\n",
       "    <tr>\n",
       "      <th>0</th>\n",
       "      <td>1</td>\n",
       "      <td>110</td>\n",
       "      <td>1.0</td>\n",
       "      <td>1425941529</td>\n",
       "    </tr>\n",
       "    <tr>\n",
       "      <th>1</th>\n",
       "      <td>1</td>\n",
       "      <td>147</td>\n",
       "      <td>4.5</td>\n",
       "      <td>1425942435</td>\n",
       "    </tr>\n",
       "    <tr>\n",
       "      <th>2</th>\n",
       "      <td>1</td>\n",
       "      <td>858</td>\n",
       "      <td>5.0</td>\n",
       "      <td>1425941523</td>\n",
       "    </tr>\n",
       "  </tbody>\n",
       "</table>\n",
       "</div>"
      ],
      "text/plain": [
       "   userId  movieId  rating   timestamp\n",
       "0       1      110     1.0  1425941529\n",
       "1       1      147     4.5  1425942435\n",
       "2       1      858     5.0  1425941523"
      ]
     },
     "execution_count": 16,
     "metadata": {},
     "output_type": "execute_result"
    }
   ],
   "source": [
    "avaliacoes = pd.read_csv('ratings.csv')\n",
    "avaliacoes.head(3)"
   ]
  },
  {
   "cell_type": "markdown",
   "id": "b0d9ba94",
   "metadata": {},
   "source": [
    "# Com os datasets já importados, iniciaremos o processamento dos dados"
   ]
  },
  {
   "cell_type": "code",
   "execution_count": 18,
   "id": "2e44d032",
   "metadata": {
    "scrolled": true
   },
   "outputs": [
    {
     "data": {
      "text/html": [
       "<div>\n",
       "<style scoped>\n",
       "    .dataframe tbody tr th:only-of-type {\n",
       "        vertical-align: middle;\n",
       "    }\n",
       "\n",
       "    .dataframe tbody tr th {\n",
       "        vertical-align: top;\n",
       "    }\n",
       "\n",
       "    .dataframe thead th {\n",
       "        text-align: right;\n",
       "    }\n",
       "</style>\n",
       "<table border=\"1\" class=\"dataframe\">\n",
       "  <thead>\n",
       "    <tr style=\"text-align: right;\">\n",
       "      <th></th>\n",
       "      <th>ID_FILME</th>\n",
       "      <th>TITULO</th>\n",
       "      <th>IDIOMA</th>\n",
       "      <th>QTD_AVALIACOES</th>\n",
       "    </tr>\n",
       "  </thead>\n",
       "  <tbody>\n",
       "    <tr>\n",
       "      <th>0</th>\n",
       "      <td>862</td>\n",
       "      <td>Toy Story</td>\n",
       "      <td>en</td>\n",
       "      <td>5415.0</td>\n",
       "    </tr>\n",
       "    <tr>\n",
       "      <th>1</th>\n",
       "      <td>8844</td>\n",
       "      <td>Jumanji</td>\n",
       "      <td>en</td>\n",
       "      <td>2413.0</td>\n",
       "    </tr>\n",
       "    <tr>\n",
       "      <th>2</th>\n",
       "      <td>15602</td>\n",
       "      <td>Grumpier Old Men</td>\n",
       "      <td>en</td>\n",
       "      <td>92.0</td>\n",
       "    </tr>\n",
       "    <tr>\n",
       "      <th>3</th>\n",
       "      <td>31357</td>\n",
       "      <td>Waiting to Exhale</td>\n",
       "      <td>en</td>\n",
       "      <td>34.0</td>\n",
       "    </tr>\n",
       "    <tr>\n",
       "      <th>4</th>\n",
       "      <td>11862</td>\n",
       "      <td>Father of the Bride Part II</td>\n",
       "      <td>en</td>\n",
       "      <td>173.0</td>\n",
       "    </tr>\n",
       "  </tbody>\n",
       "</table>\n",
       "</div>"
      ],
      "text/plain": [
       "  ID_FILME                       TITULO IDIOMA  QTD_AVALIACOES\n",
       "0      862                    Toy Story     en          5415.0\n",
       "1     8844                      Jumanji     en          2413.0\n",
       "2    15602             Grumpier Old Men     en            92.0\n",
       "3    31357            Waiting to Exhale     en            34.0\n",
       "4    11862  Father of the Bride Part II     en           173.0"
      ]
     },
     "execution_count": 18,
     "metadata": {},
     "output_type": "execute_result"
    }
   ],
   "source": [
    "#Vamos filtrar deixando apenas as colunas que serão utilizadas \n",
    "filmes = filmes[['id','original_title','original_language','vote_count']]\n",
    "\n",
    "#Renomear as colunas\n",
    "filmes.rename(columns={'id':'ID_FILME','original_title':'TITULO','original_language':'IDIOMA','vote_count':'QTD_AVALIACOES'},inplace=True)\n",
    "\n",
    "filmes.head()"
   ]
  },
  {
   "cell_type": "code",
   "execution_count": 21,
   "id": "03beca21",
   "metadata": {},
   "outputs": [
    {
     "data": {
      "text/html": [
       "<div>\n",
       "<style scoped>\n",
       "    .dataframe tbody tr th:only-of-type {\n",
       "        vertical-align: middle;\n",
       "    }\n",
       "\n",
       "    .dataframe tbody tr th {\n",
       "        vertical-align: top;\n",
       "    }\n",
       "\n",
       "    .dataframe thead th {\n",
       "        text-align: right;\n",
       "    }\n",
       "</style>\n",
       "<table border=\"1\" class=\"dataframe\">\n",
       "  <thead>\n",
       "    <tr style=\"text-align: right;\">\n",
       "      <th></th>\n",
       "      <th>ID_USUARIO</th>\n",
       "      <th>ID_FILME</th>\n",
       "      <th>AVALIACAO</th>\n",
       "    </tr>\n",
       "  </thead>\n",
       "  <tbody>\n",
       "    <tr>\n",
       "      <th>0</th>\n",
       "      <td>1</td>\n",
       "      <td>110</td>\n",
       "      <td>1.0</td>\n",
       "    </tr>\n",
       "    <tr>\n",
       "      <th>1</th>\n",
       "      <td>1</td>\n",
       "      <td>147</td>\n",
       "      <td>4.5</td>\n",
       "    </tr>\n",
       "    <tr>\n",
       "      <th>2</th>\n",
       "      <td>1</td>\n",
       "      <td>858</td>\n",
       "      <td>5.0</td>\n",
       "    </tr>\n",
       "    <tr>\n",
       "      <th>3</th>\n",
       "      <td>1</td>\n",
       "      <td>1221</td>\n",
       "      <td>5.0</td>\n",
       "    </tr>\n",
       "    <tr>\n",
       "      <th>4</th>\n",
       "      <td>1</td>\n",
       "      <td>1246</td>\n",
       "      <td>5.0</td>\n",
       "    </tr>\n",
       "  </tbody>\n",
       "</table>\n",
       "</div>"
      ],
      "text/plain": [
       "   ID_USUARIO  ID_FILME  AVALIACAO\n",
       "0           1       110        1.0\n",
       "1           1       147        4.5\n",
       "2           1       858        5.0\n",
       "3           1      1221        5.0\n",
       "4           1      1246        5.0"
      ]
     },
     "execution_count": 21,
     "metadata": {},
     "output_type": "execute_result"
    }
   ],
   "source": [
    "#Também filtraremos no dataframe de avaliações\n",
    "avaliacoes = avaliacoes[['userId','movieId','rating']]\n",
    "\n",
    "#Renomear as colunas\n",
    "avaliacoes.rename(columns={'userId':'ID_USUARIO','movieId':'ID_FILME','rating':'AVALIACAO'},inplace=True)\n",
    "\n",
    "avaliacoes.head()"
   ]
  },
  {
   "cell_type": "code",
   "execution_count": 22,
   "id": "8baee32d",
   "metadata": {},
   "outputs": [
    {
     "data": {
      "text/plain": [
       "ID_FILME           0\n",
       "TITULO             0\n",
       "IDIOMA            11\n",
       "QTD_AVALIACOES     6\n",
       "dtype: int64"
      ]
     },
     "execution_count": 22,
     "metadata": {},
     "output_type": "execute_result"
    }
   ],
   "source": [
    "#Verificar se há valores nulos\n",
    "filmes.isna().sum()"
   ]
  },
  {
   "cell_type": "code",
   "execution_count": 24,
   "id": "29c60d28",
   "metadata": {},
   "outputs": [],
   "source": [
    "#Excluindo valores nulos\n",
    "filmes.dropna(inplace=True)"
   ]
  },
  {
   "cell_type": "code",
   "execution_count": 25,
   "id": "db349ae1",
   "metadata": {},
   "outputs": [
    {
     "data": {
      "text/plain": [
       "ID_USUARIO    0\n",
       "ID_FILME      0\n",
       "AVALIACAO     0\n",
       "dtype: int64"
      ]
     },
     "execution_count": 25,
     "metadata": {},
     "output_type": "execute_result"
    }
   ],
   "source": [
    "#verificando se há valores nulos no dataframe de avaliações\n",
    "avaliacoes.isna().sum()\n",
    "#como não há valores nulos, não é necessário excluir"
   ]
  },
  {
   "cell_type": "code",
   "execution_count": 26,
   "id": "945d0076",
   "metadata": {},
   "outputs": [
    {
     "data": {
      "text/plain": [
       "45811     18276\n",
       "8659       9279\n",
       "270123     7638\n",
       "179792     7515\n",
       "228291     7410\n",
       "          ...  \n",
       "30155         1\n",
       "9641          1\n",
       "164717        1\n",
       "243426        1\n",
       "234625        1\n",
       "Name: ID_USUARIO, Length: 270896, dtype: int64"
      ]
     },
     "execution_count": 26,
     "metadata": {},
     "output_type": "execute_result"
    }
   ],
   "source": [
    "#Verificando a quantidade de avaliações por usuários\n",
    "avaliacoes['ID_USUARIO'].value_counts()"
   ]
  },
  {
   "cell_type": "code",
   "execution_count": 29,
   "id": "6254b22c",
   "metadata": {},
   "outputs": [
    {
     "data": {
      "text/plain": [
       "(2509,)"
      ]
     },
     "execution_count": 29,
     "metadata": {},
     "output_type": "execute_result"
    }
   ],
   "source": [
    "#Para este estudo, utilizaremos apenas os usuários que fizeram pelo menos 1000 avaliações para melhor precisão\n",
    "qt_avaliacoes = avaliacoes['ID_USUARIO'].value_counts() > 999\n",
    "y = qt_avaliacoes[qt_avaliacoes].index\n",
    "y.shape"
   ]
  },
  {
   "cell_type": "code",
   "execution_count": 30,
   "id": "847f913c",
   "metadata": {},
   "outputs": [],
   "source": [
    "#Criada a variavel de apenas usuários com pelo menos 1000 avaliações, vamos implementá-la ao dataframe\n",
    "avaliacoes = avaliacoes[avaliacoes['ID_USUARIO'].isin(y)]"
   ]
  },
  {
   "cell_type": "code",
   "execution_count": 32,
   "id": "528bc41a",
   "metadata": {},
   "outputs": [
    {
     "data": {
      "text/plain": [
       "(3844582, 3)"
      ]
     },
     "execution_count": 32,
     "metadata": {},
     "output_type": "execute_result"
    }
   ],
   "source": [
    "#RESTARAM 3.844.582 USUÁRIOS\n",
    "avaliacoes.shape"
   ]
  },
  {
   "cell_type": "code",
   "execution_count": 33,
   "id": "e4704954",
   "metadata": {},
   "outputs": [],
   "source": [
    "#DA MESMA FORMAS PODEMOS FAZER PARA OS FILMES\n",
    "filmes = filmes[filmes['QTD_AVALIACOES'] > 999]"
   ]
  },
  {
   "cell_type": "code",
   "execution_count": 34,
   "id": "2c118691",
   "metadata": {},
   "outputs": [
    {
     "data": {
      "text/plain": [
       "(1121, 4)"
      ]
     },
     "execution_count": 34,
     "metadata": {},
     "output_type": "execute_result"
    }
   ],
   "source": [
    "#Nos restaram 1121 filmes\n",
    "filmes.shape"
   ]
  },
  {
   "cell_type": "code",
   "execution_count": 37,
   "id": "f0d85610",
   "metadata": {},
   "outputs": [],
   "source": [
    "#Vamos tratar a variavel de IDIOMA agora.\n",
    "filmes_linguagem = filmes['IDIOMA'].value_counts()"
   ]
  },
  {
   "cell_type": "code",
   "execution_count": 42,
   "id": "2143615e",
   "metadata": {},
   "outputs": [
    {
     "data": {
      "text/plain": [
       "en    1100\n",
       "fr       5\n",
       "ja       5\n",
       "it       3\n",
       "ko       2\n",
       "pt       1\n",
       "de       1\n",
       "es       1\n",
       "cn       1\n",
       "sv       1\n",
       "id       1\n",
       "Name: IDIOMA, dtype: int64"
      ]
     },
     "execution_count": 42,
     "metadata": {},
     "output_type": "execute_result"
    }
   ],
   "source": [
    "filmes_linguagem"
   ]
  },
  {
   "cell_type": "code",
   "execution_count": 43,
   "id": "aafafc94",
   "metadata": {},
   "outputs": [],
   "source": [
    "#Como há praticamente só filmes em inglês, vamos eliminar os outros idiomas\n",
    "filmes = filmes[filmes['IDIOMA']=='en']"
   ]
  },
  {
   "cell_type": "code",
   "execution_count": 44,
   "id": "89f33ecc",
   "metadata": {},
   "outputs": [
    {
     "name": "stdout",
     "output_type": "stream",
     "text": [
      "<class 'pandas.core.frame.DataFrame'>\n",
      "Int64Index: 1100 entries, 0 to 44842\n",
      "Data columns (total 4 columns):\n",
      " #   Column          Non-Null Count  Dtype  \n",
      "---  ------          --------------  -----  \n",
      " 0   ID_FILME        1100 non-null   object \n",
      " 1   TITULO          1100 non-null   object \n",
      " 2   IDIOMA          1100 non-null   object \n",
      " 3   QTD_AVALIACOES  1100 non-null   float64\n",
      "dtypes: float64(1), object(3)\n",
      "memory usage: 43.0+ KB\n"
     ]
    }
   ],
   "source": [
    "#VISUALIZANDO OS TIPOS DE DADOS DOS DATAFRAMES\n",
    "filmes.info()"
   ]
  },
  {
   "cell_type": "code",
   "execution_count": 46,
   "id": "3a7061c0",
   "metadata": {},
   "outputs": [
    {
     "name": "stdout",
     "output_type": "stream",
     "text": [
      "<class 'pandas.core.frame.DataFrame'>\n",
      "Int64Index: 3844582 entries, 17291 to 26023521\n",
      "Data columns (total 3 columns):\n",
      " #   Column      Dtype  \n",
      "---  ------      -----  \n",
      " 0   ID_USUARIO  int64  \n",
      " 1   ID_FILME    int64  \n",
      " 2   AVALIACAO   float64\n",
      "dtypes: float64(1), int64(2)\n",
      "memory usage: 117.3 MB\n"
     ]
    }
   ],
   "source": [
    "avaliacoes.info()"
   ]
  },
  {
   "cell_type": "code",
   "execution_count": 47,
   "id": "75107e4d",
   "metadata": {},
   "outputs": [],
   "source": [
    "#Podemos observar que há uma divergência entre os tipos de dados da variável 'ID_FILME' nos dataframes, vamos corrigir.\n",
    "filmes['ID_FILME'] = filmes['ID_FILME'].astype(int)\n"
   ]
  },
  {
   "cell_type": "code",
   "execution_count": 48,
   "id": "d16d85f9",
   "metadata": {},
   "outputs": [
    {
     "data": {
      "text/plain": [
       "(1100, 4)"
      ]
     },
     "execution_count": 48,
     "metadata": {},
     "output_type": "execute_result"
    }
   ],
   "source": [
    "#Podemos ver que a quantidade não foi alterada \n",
    "filmes.shape"
   ]
  },
  {
   "cell_type": "code",
   "execution_count": 51,
   "id": "00b64bb2",
   "metadata": {},
   "outputs": [
    {
     "name": "stdout",
     "output_type": "stream",
     "text": [
      "<class 'pandas.core.frame.DataFrame'>\n",
      "Int64Index: 1100 entries, 0 to 44842\n",
      "Data columns (total 4 columns):\n",
      " #   Column          Non-Null Count  Dtype  \n",
      "---  ------          --------------  -----  \n",
      " 0   ID_FILME        1100 non-null   int32  \n",
      " 1   TITULO          1100 non-null   object \n",
      " 2   IDIOMA          1100 non-null   object \n",
      " 3   QTD_AVALIACOES  1100 non-null   float64\n",
      "dtypes: float64(1), int32(1), object(2)\n",
      "memory usage: 38.7+ KB\n"
     ]
    }
   ],
   "source": [
    "#Podemos confirmar a alteração com sucesso.\n",
    "filmes.info()"
   ]
  },
  {
   "cell_type": "code",
   "execution_count": 52,
   "id": "c3b3b1ff",
   "metadata": {},
   "outputs": [
    {
     "data": {
      "text/html": [
       "<div>\n",
       "<style scoped>\n",
       "    .dataframe tbody tr th:only-of-type {\n",
       "        vertical-align: middle;\n",
       "    }\n",
       "\n",
       "    .dataframe tbody tr th {\n",
       "        vertical-align: top;\n",
       "    }\n",
       "\n",
       "    .dataframe thead th {\n",
       "        text-align: right;\n",
       "    }\n",
       "</style>\n",
       "<table border=\"1\" class=\"dataframe\">\n",
       "  <thead>\n",
       "    <tr style=\"text-align: right;\">\n",
       "      <th></th>\n",
       "      <th>ID_USUARIO</th>\n",
       "      <th>ID_FILME</th>\n",
       "      <th>AVALIACAO</th>\n",
       "      <th>TITULO</th>\n",
       "      <th>IDIOMA</th>\n",
       "      <th>QTD_AVALIACOES</th>\n",
       "    </tr>\n",
       "  </thead>\n",
       "  <tbody>\n",
       "    <tr>\n",
       "      <th>0</th>\n",
       "      <td>229</td>\n",
       "      <td>12</td>\n",
       "      <td>1.0</td>\n",
       "      <td>Finding Nemo</td>\n",
       "      <td>en</td>\n",
       "      <td>6292.0</td>\n",
       "    </tr>\n",
       "    <tr>\n",
       "      <th>1</th>\n",
       "      <td>741</td>\n",
       "      <td>12</td>\n",
       "      <td>3.0</td>\n",
       "      <td>Finding Nemo</td>\n",
       "      <td>en</td>\n",
       "      <td>6292.0</td>\n",
       "    </tr>\n",
       "    <tr>\n",
       "      <th>2</th>\n",
       "      <td>1932</td>\n",
       "      <td>12</td>\n",
       "      <td>0.5</td>\n",
       "      <td>Finding Nemo</td>\n",
       "      <td>en</td>\n",
       "      <td>6292.0</td>\n",
       "    </tr>\n",
       "    <tr>\n",
       "      <th>3</th>\n",
       "      <td>3437</td>\n",
       "      <td>12</td>\n",
       "      <td>2.0</td>\n",
       "      <td>Finding Nemo</td>\n",
       "      <td>en</td>\n",
       "      <td>6292.0</td>\n",
       "    </tr>\n",
       "    <tr>\n",
       "      <th>4</th>\n",
       "      <td>3694</td>\n",
       "      <td>12</td>\n",
       "      <td>1.5</td>\n",
       "      <td>Finding Nemo</td>\n",
       "      <td>en</td>\n",
       "      <td>6292.0</td>\n",
       "    </tr>\n",
       "    <tr>\n",
       "      <th>...</th>\n",
       "      <td>...</td>\n",
       "      <td>...</td>\n",
       "      <td>...</td>\n",
       "      <td>...</td>\n",
       "      <td>...</td>\n",
       "      <td>...</td>\n",
       "    </tr>\n",
       "    <tr>\n",
       "      <th>189877</th>\n",
       "      <td>243443</td>\n",
       "      <td>8909</td>\n",
       "      <td>1.0</td>\n",
       "      <td>Wanted</td>\n",
       "      <td>en</td>\n",
       "      <td>2583.0</td>\n",
       "    </tr>\n",
       "    <tr>\n",
       "      <th>189878</th>\n",
       "      <td>218368</td>\n",
       "      <td>101299</td>\n",
       "      <td>4.0</td>\n",
       "      <td>The Hunger Games: Catching Fire</td>\n",
       "      <td>en</td>\n",
       "      <td>6656.0</td>\n",
       "    </tr>\n",
       "    <tr>\n",
       "      <th>189879</th>\n",
       "      <td>219677</td>\n",
       "      <td>146216</td>\n",
       "      <td>1.0</td>\n",
       "      <td>RED 2</td>\n",
       "      <td>en</td>\n",
       "      <td>1548.0</td>\n",
       "    </tr>\n",
       "    <tr>\n",
       "      <th>189880</th>\n",
       "      <td>221327</td>\n",
       "      <td>118340</td>\n",
       "      <td>4.0</td>\n",
       "      <td>Guardians of the Galaxy</td>\n",
       "      <td>en</td>\n",
       "      <td>10014.0</td>\n",
       "    </tr>\n",
       "    <tr>\n",
       "      <th>189881</th>\n",
       "      <td>248600</td>\n",
       "      <td>157336</td>\n",
       "      <td>1.5</td>\n",
       "      <td>Interstellar</td>\n",
       "      <td>en</td>\n",
       "      <td>11187.0</td>\n",
       "    </tr>\n",
       "  </tbody>\n",
       "</table>\n",
       "<p>189882 rows × 6 columns</p>\n",
       "</div>"
      ],
      "text/plain": [
       "        ID_USUARIO  ID_FILME  AVALIACAO                           TITULO  \\\n",
       "0              229        12        1.0                     Finding Nemo   \n",
       "1              741        12        3.0                     Finding Nemo   \n",
       "2             1932        12        0.5                     Finding Nemo   \n",
       "3             3437        12        2.0                     Finding Nemo   \n",
       "4             3694        12        1.5                     Finding Nemo   \n",
       "...            ...       ...        ...                              ...   \n",
       "189877      243443      8909        1.0                           Wanted   \n",
       "189878      218368    101299        4.0  The Hunger Games: Catching Fire   \n",
       "189879      219677    146216        1.0                            RED 2   \n",
       "189880      221327    118340        4.0          Guardians of the Galaxy   \n",
       "189881      248600    157336        1.5                     Interstellar   \n",
       "\n",
       "       IDIOMA  QTD_AVALIACOES  \n",
       "0          en          6292.0  \n",
       "1          en          6292.0  \n",
       "2          en          6292.0  \n",
       "3          en          6292.0  \n",
       "4          en          6292.0  \n",
       "...       ...             ...  \n",
       "189877     en          2583.0  \n",
       "189878     en          6656.0  \n",
       "189879     en          1548.0  \n",
       "189880     en         10014.0  \n",
       "189881     en         11187.0  \n",
       "\n",
       "[189882 rows x 6 columns]"
      ]
     },
     "execution_count": 52,
     "metadata": {},
     "output_type": "execute_result"
    }
   ],
   "source": [
    "#Agora vamos concatenar os dataframes\n",
    "avaliacoes_filmes = avaliacoes.merge(filmes, on='ID_FILME')\n",
    "avaliacoes_filmes"
   ]
  },
  {
   "cell_type": "code",
   "execution_count": 53,
   "id": "1ad72576",
   "metadata": {},
   "outputs": [
    {
     "data": {
      "text/plain": [
       "(189882, 6)"
      ]
     },
     "execution_count": 53,
     "metadata": {},
     "output_type": "execute_result"
    }
   ],
   "source": [
    "avaliacoes_filmes.shape"
   ]
  },
  {
   "cell_type": "code",
   "execution_count": 54,
   "id": "c6509148",
   "metadata": {},
   "outputs": [
    {
     "data": {
      "text/plain": [
       "ID_USUARIO        0\n",
       "ID_FILME          0\n",
       "AVALIACAO         0\n",
       "TITULO            0\n",
       "IDIOMA            0\n",
       "QTD_AVALIACOES    0\n",
       "dtype: int64"
      ]
     },
     "execution_count": 54,
     "metadata": {},
     "output_type": "execute_result"
    }
   ],
   "source": [
    "avaliacoes_filmes.isna().sum()"
   ]
  },
  {
   "cell_type": "code",
   "execution_count": 55,
   "id": "8c00a814",
   "metadata": {},
   "outputs": [],
   "source": [
    "#Vamos eliminar possiveis valores duplicados, para caso ocorra de um único usuário tenha avaliado o mesmo filme várias vezes\n",
    "avaliacoes_filmes.drop_duplicates(['ID_USUARIO','ID_FILME'],inplace=True)"
   ]
  },
  {
   "cell_type": "code",
   "execution_count": 56,
   "id": "839051d9",
   "metadata": {},
   "outputs": [
    {
     "data": {
      "text/plain": [
       "(189882, 6)"
      ]
     },
     "execution_count": 56,
     "metadata": {},
     "output_type": "execute_result"
    }
   ],
   "source": [
    "#Não havia nenhuma\n",
    "avaliacoes_filmes.shape"
   ]
  },
  {
   "cell_type": "code",
   "execution_count": 57,
   "id": "adb7e64c",
   "metadata": {},
   "outputs": [],
   "source": [
    "#Vamos remover a coluna de ID FILMES pois não será utilizadaa\n",
    "del avaliacoes_filmes['ID_FILME']"
   ]
  },
  {
   "cell_type": "code",
   "execution_count": 58,
   "id": "f51c9f70",
   "metadata": {},
   "outputs": [
    {
     "data": {
      "text/html": [
       "<div>\n",
       "<style scoped>\n",
       "    .dataframe tbody tr th:only-of-type {\n",
       "        vertical-align: middle;\n",
       "    }\n",
       "\n",
       "    .dataframe tbody tr th {\n",
       "        vertical-align: top;\n",
       "    }\n",
       "\n",
       "    .dataframe thead th {\n",
       "        text-align: right;\n",
       "    }\n",
       "</style>\n",
       "<table border=\"1\" class=\"dataframe\">\n",
       "  <thead>\n",
       "    <tr style=\"text-align: right;\">\n",
       "      <th></th>\n",
       "      <th>ID_USUARIO</th>\n",
       "      <th>AVALIACAO</th>\n",
       "      <th>TITULO</th>\n",
       "      <th>IDIOMA</th>\n",
       "      <th>QTD_AVALIACOES</th>\n",
       "    </tr>\n",
       "  </thead>\n",
       "  <tbody>\n",
       "    <tr>\n",
       "      <th>0</th>\n",
       "      <td>229</td>\n",
       "      <td>1.0</td>\n",
       "      <td>Finding Nemo</td>\n",
       "      <td>en</td>\n",
       "      <td>6292.0</td>\n",
       "    </tr>\n",
       "    <tr>\n",
       "      <th>1</th>\n",
       "      <td>741</td>\n",
       "      <td>3.0</td>\n",
       "      <td>Finding Nemo</td>\n",
       "      <td>en</td>\n",
       "      <td>6292.0</td>\n",
       "    </tr>\n",
       "    <tr>\n",
       "      <th>2</th>\n",
       "      <td>1932</td>\n",
       "      <td>0.5</td>\n",
       "      <td>Finding Nemo</td>\n",
       "      <td>en</td>\n",
       "      <td>6292.0</td>\n",
       "    </tr>\n",
       "    <tr>\n",
       "      <th>3</th>\n",
       "      <td>3437</td>\n",
       "      <td>2.0</td>\n",
       "      <td>Finding Nemo</td>\n",
       "      <td>en</td>\n",
       "      <td>6292.0</td>\n",
       "    </tr>\n",
       "    <tr>\n",
       "      <th>4</th>\n",
       "      <td>3694</td>\n",
       "      <td>1.5</td>\n",
       "      <td>Finding Nemo</td>\n",
       "      <td>en</td>\n",
       "      <td>6292.0</td>\n",
       "    </tr>\n",
       "  </tbody>\n",
       "</table>\n",
       "</div>"
      ],
      "text/plain": [
       "   ID_USUARIO  AVALIACAO        TITULO IDIOMA  QTD_AVALIACOES\n",
       "0         229        1.0  Finding Nemo     en          6292.0\n",
       "1         741        3.0  Finding Nemo     en          6292.0\n",
       "2        1932        0.5  Finding Nemo     en          6292.0\n",
       "3        3437        2.0  Finding Nemo     en          6292.0\n",
       "4        3694        1.5  Finding Nemo     en          6292.0"
      ]
     },
     "execution_count": 58,
     "metadata": {},
     "output_type": "execute_result"
    }
   ],
   "source": [
    "#Coluna removida com sucesso!\n",
    "avaliacoes_filmes.head()"
   ]
  },
  {
   "cell_type": "code",
   "execution_count": 60,
   "id": "c877deb7",
   "metadata": {},
   "outputs": [
    {
     "data": {
      "text/html": [
       "<div>\n",
       "<style scoped>\n",
       "    .dataframe tbody tr th:only-of-type {\n",
       "        vertical-align: middle;\n",
       "    }\n",
       "\n",
       "    .dataframe tbody tr th {\n",
       "        vertical-align: top;\n",
       "    }\n",
       "\n",
       "    .dataframe thead th {\n",
       "        text-align: right;\n",
       "    }\n",
       "</style>\n",
       "<table border=\"1\" class=\"dataframe\">\n",
       "  <thead>\n",
       "    <tr style=\"text-align: right;\">\n",
       "      <th>ID_USUARIO</th>\n",
       "      <th>229</th>\n",
       "      <th>231</th>\n",
       "      <th>741</th>\n",
       "      <th>836</th>\n",
       "      <th>1104</th>\n",
       "      <th>1136</th>\n",
       "      <th>1243</th>\n",
       "      <th>1380</th>\n",
       "      <th>1652</th>\n",
       "      <th>1846</th>\n",
       "      <th>...</th>\n",
       "      <th>269632</th>\n",
       "      <th>269750</th>\n",
       "      <th>269913</th>\n",
       "      <th>270071</th>\n",
       "      <th>270123</th>\n",
       "      <th>270213</th>\n",
       "      <th>270237</th>\n",
       "      <th>270564</th>\n",
       "      <th>270654</th>\n",
       "      <th>270887</th>\n",
       "    </tr>\n",
       "    <tr>\n",
       "      <th>TITULO</th>\n",
       "      <th></th>\n",
       "      <th></th>\n",
       "      <th></th>\n",
       "      <th></th>\n",
       "      <th></th>\n",
       "      <th></th>\n",
       "      <th></th>\n",
       "      <th></th>\n",
       "      <th></th>\n",
       "      <th></th>\n",
       "      <th></th>\n",
       "      <th></th>\n",
       "      <th></th>\n",
       "      <th></th>\n",
       "      <th></th>\n",
       "      <th></th>\n",
       "      <th></th>\n",
       "      <th></th>\n",
       "      <th></th>\n",
       "      <th></th>\n",
       "      <th></th>\n",
       "    </tr>\n",
       "  </thead>\n",
       "  <tbody>\n",
       "    <tr>\n",
       "      <th>10 Things I Hate About You</th>\n",
       "      <td>NaN</td>\n",
       "      <td>NaN</td>\n",
       "      <td>NaN</td>\n",
       "      <td>NaN</td>\n",
       "      <td>NaN</td>\n",
       "      <td>NaN</td>\n",
       "      <td>NaN</td>\n",
       "      <td>NaN</td>\n",
       "      <td>NaN</td>\n",
       "      <td>NaN</td>\n",
       "      <td>...</td>\n",
       "      <td>NaN</td>\n",
       "      <td>2.5</td>\n",
       "      <td>NaN</td>\n",
       "      <td>3.0</td>\n",
       "      <td>3.0</td>\n",
       "      <td>NaN</td>\n",
       "      <td>NaN</td>\n",
       "      <td>NaN</td>\n",
       "      <td>NaN</td>\n",
       "      <td>NaN</td>\n",
       "    </tr>\n",
       "    <tr>\n",
       "      <th>12 Angry Men</th>\n",
       "      <td>NaN</td>\n",
       "      <td>NaN</td>\n",
       "      <td>NaN</td>\n",
       "      <td>NaN</td>\n",
       "      <td>NaN</td>\n",
       "      <td>NaN</td>\n",
       "      <td>NaN</td>\n",
       "      <td>NaN</td>\n",
       "      <td>NaN</td>\n",
       "      <td>NaN</td>\n",
       "      <td>...</td>\n",
       "      <td>NaN</td>\n",
       "      <td>NaN</td>\n",
       "      <td>NaN</td>\n",
       "      <td>NaN</td>\n",
       "      <td>NaN</td>\n",
       "      <td>NaN</td>\n",
       "      <td>NaN</td>\n",
       "      <td>NaN</td>\n",
       "      <td>3.5</td>\n",
       "      <td>NaN</td>\n",
       "    </tr>\n",
       "    <tr>\n",
       "      <th>127 Hours</th>\n",
       "      <td>NaN</td>\n",
       "      <td>NaN</td>\n",
       "      <td>NaN</td>\n",
       "      <td>NaN</td>\n",
       "      <td>NaN</td>\n",
       "      <td>NaN</td>\n",
       "      <td>NaN</td>\n",
       "      <td>NaN</td>\n",
       "      <td>NaN</td>\n",
       "      <td>NaN</td>\n",
       "      <td>...</td>\n",
       "      <td>NaN</td>\n",
       "      <td>NaN</td>\n",
       "      <td>NaN</td>\n",
       "      <td>NaN</td>\n",
       "      <td>NaN</td>\n",
       "      <td>NaN</td>\n",
       "      <td>NaN</td>\n",
       "      <td>NaN</td>\n",
       "      <td>NaN</td>\n",
       "      <td>NaN</td>\n",
       "    </tr>\n",
       "    <tr>\n",
       "      <th>1408</th>\n",
       "      <td>NaN</td>\n",
       "      <td>NaN</td>\n",
       "      <td>NaN</td>\n",
       "      <td>NaN</td>\n",
       "      <td>NaN</td>\n",
       "      <td>NaN</td>\n",
       "      <td>NaN</td>\n",
       "      <td>NaN</td>\n",
       "      <td>NaN</td>\n",
       "      <td>NaN</td>\n",
       "      <td>...</td>\n",
       "      <td>NaN</td>\n",
       "      <td>NaN</td>\n",
       "      <td>NaN</td>\n",
       "      <td>NaN</td>\n",
       "      <td>2.5</td>\n",
       "      <td>2.0</td>\n",
       "      <td>NaN</td>\n",
       "      <td>NaN</td>\n",
       "      <td>NaN</td>\n",
       "      <td>NaN</td>\n",
       "    </tr>\n",
       "    <tr>\n",
       "      <th>2 Fast 2 Furious</th>\n",
       "      <td>NaN</td>\n",
       "      <td>NaN</td>\n",
       "      <td>NaN</td>\n",
       "      <td>NaN</td>\n",
       "      <td>NaN</td>\n",
       "      <td>NaN</td>\n",
       "      <td>NaN</td>\n",
       "      <td>NaN</td>\n",
       "      <td>NaN</td>\n",
       "      <td>NaN</td>\n",
       "      <td>...</td>\n",
       "      <td>NaN</td>\n",
       "      <td>NaN</td>\n",
       "      <td>NaN</td>\n",
       "      <td>NaN</td>\n",
       "      <td>NaN</td>\n",
       "      <td>NaN</td>\n",
       "      <td>NaN</td>\n",
       "      <td>NaN</td>\n",
       "      <td>NaN</td>\n",
       "      <td>NaN</td>\n",
       "    </tr>\n",
       "  </tbody>\n",
       "</table>\n",
       "<p>5 rows × 2509 columns</p>\n",
       "</div>"
      ],
      "text/plain": [
       "ID_USUARIO                  229     231     741     836     1104    1136    \\\n",
       "TITULO                                                                       \n",
       "10 Things I Hate About You     NaN     NaN     NaN     NaN     NaN     NaN   \n",
       "12 Angry Men                   NaN     NaN     NaN     NaN     NaN     NaN   \n",
       "127 Hours                      NaN     NaN     NaN     NaN     NaN     NaN   \n",
       "1408                           NaN     NaN     NaN     NaN     NaN     NaN   \n",
       "2 Fast 2 Furious               NaN     NaN     NaN     NaN     NaN     NaN   \n",
       "\n",
       "ID_USUARIO                  1243    1380    1652    1846    ...  269632  \\\n",
       "TITULO                                                      ...           \n",
       "10 Things I Hate About You     NaN     NaN     NaN     NaN  ...     NaN   \n",
       "12 Angry Men                   NaN     NaN     NaN     NaN  ...     NaN   \n",
       "127 Hours                      NaN     NaN     NaN     NaN  ...     NaN   \n",
       "1408                           NaN     NaN     NaN     NaN  ...     NaN   \n",
       "2 Fast 2 Furious               NaN     NaN     NaN     NaN  ...     NaN   \n",
       "\n",
       "ID_USUARIO                  269750  269913  270071  270123  270213  270237  \\\n",
       "TITULO                                                                       \n",
       "10 Things I Hate About You     2.5     NaN     3.0     3.0     NaN     NaN   \n",
       "12 Angry Men                   NaN     NaN     NaN     NaN     NaN     NaN   \n",
       "127 Hours                      NaN     NaN     NaN     NaN     NaN     NaN   \n",
       "1408                           NaN     NaN     NaN     2.5     2.0     NaN   \n",
       "2 Fast 2 Furious               NaN     NaN     NaN     NaN     NaN     NaN   \n",
       "\n",
       "ID_USUARIO                  270564  270654  270887  \n",
       "TITULO                                              \n",
       "10 Things I Hate About You     NaN     NaN     NaN  \n",
       "12 Angry Men                   NaN     3.5     NaN  \n",
       "127 Hours                      NaN     NaN     NaN  \n",
       "1408                           NaN     NaN     NaN  \n",
       "2 Fast 2 Furious               NaN     NaN     NaN  \n",
       "\n",
       "[5 rows x 2509 columns]"
      ]
     },
     "execution_count": 60,
     "metadata": {},
     "output_type": "execute_result"
    }
   ],
   "source": [
    "#Agora precisamos transformar as linhas de usuários em colunas para prosseguir com o sistema\n",
    "#para isso, utilizaremos o 'pivot'\n",
    "filmes_pivot = avaliacoes_filmes.pivot_table(columns='ID_USUARIO',index='TITULO',values='AVALIACAO')\n",
    "\n",
    "filmes_pivot.head()"
   ]
  },
  {
   "cell_type": "code",
   "execution_count": 63,
   "id": "26cc4440",
   "metadata": {},
   "outputs": [
    {
     "data": {
      "text/html": [
       "<div>\n",
       "<style scoped>\n",
       "    .dataframe tbody tr th:only-of-type {\n",
       "        vertical-align: middle;\n",
       "    }\n",
       "\n",
       "    .dataframe tbody tr th {\n",
       "        vertical-align: top;\n",
       "    }\n",
       "\n",
       "    .dataframe thead th {\n",
       "        text-align: right;\n",
       "    }\n",
       "</style>\n",
       "<table border=\"1\" class=\"dataframe\">\n",
       "  <thead>\n",
       "    <tr style=\"text-align: right;\">\n",
       "      <th>ID_USUARIO</th>\n",
       "      <th>229</th>\n",
       "      <th>231</th>\n",
       "      <th>741</th>\n",
       "      <th>836</th>\n",
       "      <th>1104</th>\n",
       "      <th>1136</th>\n",
       "      <th>1243</th>\n",
       "      <th>1380</th>\n",
       "      <th>1652</th>\n",
       "      <th>1846</th>\n",
       "      <th>...</th>\n",
       "      <th>269632</th>\n",
       "      <th>269750</th>\n",
       "      <th>269913</th>\n",
       "      <th>270071</th>\n",
       "      <th>270123</th>\n",
       "      <th>270213</th>\n",
       "      <th>270237</th>\n",
       "      <th>270564</th>\n",
       "      <th>270654</th>\n",
       "      <th>270887</th>\n",
       "    </tr>\n",
       "    <tr>\n",
       "      <th>TITULO</th>\n",
       "      <th></th>\n",
       "      <th></th>\n",
       "      <th></th>\n",
       "      <th></th>\n",
       "      <th></th>\n",
       "      <th></th>\n",
       "      <th></th>\n",
       "      <th></th>\n",
       "      <th></th>\n",
       "      <th></th>\n",
       "      <th></th>\n",
       "      <th></th>\n",
       "      <th></th>\n",
       "      <th></th>\n",
       "      <th></th>\n",
       "      <th></th>\n",
       "      <th></th>\n",
       "      <th></th>\n",
       "      <th></th>\n",
       "      <th></th>\n",
       "      <th></th>\n",
       "    </tr>\n",
       "  </thead>\n",
       "  <tbody>\n",
       "    <tr>\n",
       "      <th>10 Things I Hate About You</th>\n",
       "      <td>0.0</td>\n",
       "      <td>0.0</td>\n",
       "      <td>0.0</td>\n",
       "      <td>0.0</td>\n",
       "      <td>0.0</td>\n",
       "      <td>0.0</td>\n",
       "      <td>0.0</td>\n",
       "      <td>0.0</td>\n",
       "      <td>0.0</td>\n",
       "      <td>0.0</td>\n",
       "      <td>...</td>\n",
       "      <td>0.0</td>\n",
       "      <td>2.5</td>\n",
       "      <td>0.0</td>\n",
       "      <td>3.0</td>\n",
       "      <td>3.0</td>\n",
       "      <td>0.0</td>\n",
       "      <td>0.0</td>\n",
       "      <td>0.0</td>\n",
       "      <td>0.0</td>\n",
       "      <td>0.0</td>\n",
       "    </tr>\n",
       "    <tr>\n",
       "      <th>12 Angry Men</th>\n",
       "      <td>0.0</td>\n",
       "      <td>0.0</td>\n",
       "      <td>0.0</td>\n",
       "      <td>0.0</td>\n",
       "      <td>0.0</td>\n",
       "      <td>0.0</td>\n",
       "      <td>0.0</td>\n",
       "      <td>0.0</td>\n",
       "      <td>0.0</td>\n",
       "      <td>0.0</td>\n",
       "      <td>...</td>\n",
       "      <td>0.0</td>\n",
       "      <td>0.0</td>\n",
       "      <td>0.0</td>\n",
       "      <td>0.0</td>\n",
       "      <td>0.0</td>\n",
       "      <td>0.0</td>\n",
       "      <td>0.0</td>\n",
       "      <td>0.0</td>\n",
       "      <td>3.5</td>\n",
       "      <td>0.0</td>\n",
       "    </tr>\n",
       "    <tr>\n",
       "      <th>127 Hours</th>\n",
       "      <td>0.0</td>\n",
       "      <td>0.0</td>\n",
       "      <td>0.0</td>\n",
       "      <td>0.0</td>\n",
       "      <td>0.0</td>\n",
       "      <td>0.0</td>\n",
       "      <td>0.0</td>\n",
       "      <td>0.0</td>\n",
       "      <td>0.0</td>\n",
       "      <td>0.0</td>\n",
       "      <td>...</td>\n",
       "      <td>0.0</td>\n",
       "      <td>0.0</td>\n",
       "      <td>0.0</td>\n",
       "      <td>0.0</td>\n",
       "      <td>0.0</td>\n",
       "      <td>0.0</td>\n",
       "      <td>0.0</td>\n",
       "      <td>0.0</td>\n",
       "      <td>0.0</td>\n",
       "      <td>0.0</td>\n",
       "    </tr>\n",
       "    <tr>\n",
       "      <th>1408</th>\n",
       "      <td>0.0</td>\n",
       "      <td>0.0</td>\n",
       "      <td>0.0</td>\n",
       "      <td>0.0</td>\n",
       "      <td>0.0</td>\n",
       "      <td>0.0</td>\n",
       "      <td>0.0</td>\n",
       "      <td>0.0</td>\n",
       "      <td>0.0</td>\n",
       "      <td>0.0</td>\n",
       "      <td>...</td>\n",
       "      <td>0.0</td>\n",
       "      <td>0.0</td>\n",
       "      <td>0.0</td>\n",
       "      <td>0.0</td>\n",
       "      <td>2.5</td>\n",
       "      <td>2.0</td>\n",
       "      <td>0.0</td>\n",
       "      <td>0.0</td>\n",
       "      <td>0.0</td>\n",
       "      <td>0.0</td>\n",
       "    </tr>\n",
       "    <tr>\n",
       "      <th>2 Fast 2 Furious</th>\n",
       "      <td>0.0</td>\n",
       "      <td>0.0</td>\n",
       "      <td>0.0</td>\n",
       "      <td>0.0</td>\n",
       "      <td>0.0</td>\n",
       "      <td>0.0</td>\n",
       "      <td>0.0</td>\n",
       "      <td>0.0</td>\n",
       "      <td>0.0</td>\n",
       "      <td>0.0</td>\n",
       "      <td>...</td>\n",
       "      <td>0.0</td>\n",
       "      <td>0.0</td>\n",
       "      <td>0.0</td>\n",
       "      <td>0.0</td>\n",
       "      <td>0.0</td>\n",
       "      <td>0.0</td>\n",
       "      <td>0.0</td>\n",
       "      <td>0.0</td>\n",
       "      <td>0.0</td>\n",
       "      <td>0.0</td>\n",
       "    </tr>\n",
       "  </tbody>\n",
       "</table>\n",
       "<p>5 rows × 2509 columns</p>\n",
       "</div>"
      ],
      "text/plain": [
       "ID_USUARIO                  229     231     741     836     1104    1136    \\\n",
       "TITULO                                                                       \n",
       "10 Things I Hate About You     0.0     0.0     0.0     0.0     0.0     0.0   \n",
       "12 Angry Men                   0.0     0.0     0.0     0.0     0.0     0.0   \n",
       "127 Hours                      0.0     0.0     0.0     0.0     0.0     0.0   \n",
       "1408                           0.0     0.0     0.0     0.0     0.0     0.0   \n",
       "2 Fast 2 Furious               0.0     0.0     0.0     0.0     0.0     0.0   \n",
       "\n",
       "ID_USUARIO                  1243    1380    1652    1846    ...  269632  \\\n",
       "TITULO                                                      ...           \n",
       "10 Things I Hate About You     0.0     0.0     0.0     0.0  ...     0.0   \n",
       "12 Angry Men                   0.0     0.0     0.0     0.0  ...     0.0   \n",
       "127 Hours                      0.0     0.0     0.0     0.0  ...     0.0   \n",
       "1408                           0.0     0.0     0.0     0.0  ...     0.0   \n",
       "2 Fast 2 Furious               0.0     0.0     0.0     0.0  ...     0.0   \n",
       "\n",
       "ID_USUARIO                  269750  269913  270071  270123  270213  270237  \\\n",
       "TITULO                                                                       \n",
       "10 Things I Hate About You     2.5     0.0     3.0     3.0     0.0     0.0   \n",
       "12 Angry Men                   0.0     0.0     0.0     0.0     0.0     0.0   \n",
       "127 Hours                      0.0     0.0     0.0     0.0     0.0     0.0   \n",
       "1408                           0.0     0.0     0.0     2.5     2.0     0.0   \n",
       "2 Fast 2 Furious               0.0     0.0     0.0     0.0     0.0     0.0   \n",
       "\n",
       "ID_USUARIO                  270564  270654  270887  \n",
       "TITULO                                              \n",
       "10 Things I Hate About You     0.0     0.0     0.0  \n",
       "12 Angry Men                   0.0     3.5     0.0  \n",
       "127 Hours                      0.0     0.0     0.0  \n",
       "1408                           0.0     0.0     0.0  \n",
       "2 Fast 2 Furious               0.0     0.0     0.0  \n",
       "\n",
       "[5 rows x 2509 columns]"
      ]
     },
     "execution_count": 63,
     "metadata": {},
     "output_type": "execute_result"
    }
   ],
   "source": [
    "#Os valores que são nulos, serão preenchidos com 0\n",
    "filmes_pivot.fillna(0,inplace=True)\n",
    "filmes_pivot.head()"
   ]
  },
  {
   "cell_type": "markdown",
   "id": "a18924c9",
   "metadata": {},
   "source": [
    "# CRIAÇÃO DE MATIZ"
   ]
  },
  {
   "cell_type": "code",
   "execution_count": 64,
   "id": "5eaa3a4f",
   "metadata": {},
   "outputs": [],
   "source": [
    "#Compactação da matriz para optimização de tempo, excelente método quando se tem uma matriz com muitos zeros!!\n",
    "from scipy.sparse import csr_matrix"
   ]
  },
  {
   "cell_type": "code",
   "execution_count": 65,
   "id": "a94182a2",
   "metadata": {},
   "outputs": [],
   "source": [
    "#Transformando em uma matriz sparse\n",
    "filmes_sparse = csr_matrix(filmes_pivot)"
   ]
  },
  {
   "cell_type": "markdown",
   "id": "c353b31c",
   "metadata": {},
   "source": [
    "# UTILIZAÇÃO DO KNN"
   ]
  },
  {
   "cell_type": "code",
   "execution_count": 67,
   "id": "eb4cd02d",
   "metadata": {},
   "outputs": [],
   "source": [
    "#IMPORTANDO O ALGORITMO KNN\n",
    "from sklearn.neighbors import NearestNeighbors"
   ]
  },
  {
   "cell_type": "code",
   "execution_count": 69,
   "id": "51bc44a5",
   "metadata": {},
   "outputs": [
    {
     "data": {
      "text/html": [
       "<style>#sk-container-id-1 {color: black;background-color: white;}#sk-container-id-1 pre{padding: 0;}#sk-container-id-1 div.sk-toggleable {background-color: white;}#sk-container-id-1 label.sk-toggleable__label {cursor: pointer;display: block;width: 100%;margin-bottom: 0;padding: 0.3em;box-sizing: border-box;text-align: center;}#sk-container-id-1 label.sk-toggleable__label-arrow:before {content: \"▸\";float: left;margin-right: 0.25em;color: #696969;}#sk-container-id-1 label.sk-toggleable__label-arrow:hover:before {color: black;}#sk-container-id-1 div.sk-estimator:hover label.sk-toggleable__label-arrow:before {color: black;}#sk-container-id-1 div.sk-toggleable__content {max-height: 0;max-width: 0;overflow: hidden;text-align: left;background-color: #f0f8ff;}#sk-container-id-1 div.sk-toggleable__content pre {margin: 0.2em;color: black;border-radius: 0.25em;background-color: #f0f8ff;}#sk-container-id-1 input.sk-toggleable__control:checked~div.sk-toggleable__content {max-height: 200px;max-width: 100%;overflow: auto;}#sk-container-id-1 input.sk-toggleable__control:checked~label.sk-toggleable__label-arrow:before {content: \"▾\";}#sk-container-id-1 div.sk-estimator input.sk-toggleable__control:checked~label.sk-toggleable__label {background-color: #d4ebff;}#sk-container-id-1 div.sk-label input.sk-toggleable__control:checked~label.sk-toggleable__label {background-color: #d4ebff;}#sk-container-id-1 input.sk-hidden--visually {border: 0;clip: rect(1px 1px 1px 1px);clip: rect(1px, 1px, 1px, 1px);height: 1px;margin: -1px;overflow: hidden;padding: 0;position: absolute;width: 1px;}#sk-container-id-1 div.sk-estimator {font-family: monospace;background-color: #f0f8ff;border: 1px dotted black;border-radius: 0.25em;box-sizing: border-box;margin-bottom: 0.5em;}#sk-container-id-1 div.sk-estimator:hover {background-color: #d4ebff;}#sk-container-id-1 div.sk-parallel-item::after {content: \"\";width: 100%;border-bottom: 1px solid gray;flex-grow: 1;}#sk-container-id-1 div.sk-label:hover label.sk-toggleable__label {background-color: #d4ebff;}#sk-container-id-1 div.sk-serial::before {content: \"\";position: absolute;border-left: 1px solid gray;box-sizing: border-box;top: 0;bottom: 0;left: 50%;z-index: 0;}#sk-container-id-1 div.sk-serial {display: flex;flex-direction: column;align-items: center;background-color: white;padding-right: 0.2em;padding-left: 0.2em;position: relative;}#sk-container-id-1 div.sk-item {position: relative;z-index: 1;}#sk-container-id-1 div.sk-parallel {display: flex;align-items: stretch;justify-content: center;background-color: white;position: relative;}#sk-container-id-1 div.sk-item::before, #sk-container-id-1 div.sk-parallel-item::before {content: \"\";position: absolute;border-left: 1px solid gray;box-sizing: border-box;top: 0;bottom: 0;left: 50%;z-index: -1;}#sk-container-id-1 div.sk-parallel-item {display: flex;flex-direction: column;z-index: 1;position: relative;background-color: white;}#sk-container-id-1 div.sk-parallel-item:first-child::after {align-self: flex-end;width: 50%;}#sk-container-id-1 div.sk-parallel-item:last-child::after {align-self: flex-start;width: 50%;}#sk-container-id-1 div.sk-parallel-item:only-child::after {width: 0;}#sk-container-id-1 div.sk-dashed-wrapped {border: 1px dashed gray;margin: 0 0.4em 0.5em 0.4em;box-sizing: border-box;padding-bottom: 0.4em;background-color: white;}#sk-container-id-1 div.sk-label label {font-family: monospace;font-weight: bold;display: inline-block;line-height: 1.2em;}#sk-container-id-1 div.sk-label-container {text-align: center;}#sk-container-id-1 div.sk-container {/* jupyter's `normalize.less` sets `[hidden] { display: none; }` but bootstrap.min.css set `[hidden] { display: none !important; }` so we also need the `!important` here to be able to override the default hidden behavior on the sphinx rendered scikit-learn.org. See: https://github.com/scikit-learn/scikit-learn/issues/21755 */display: inline-block !important;position: relative;}#sk-container-id-1 div.sk-text-repr-fallback {display: none;}</style><div id=\"sk-container-id-1\" class=\"sk-top-container\"><div class=\"sk-text-repr-fallback\"><pre>NearestNeighbors(algorithm=&#x27;brute&#x27;)</pre><b>In a Jupyter environment, please rerun this cell to show the HTML representation or trust the notebook. <br />On GitHub, the HTML representation is unable to render, please try loading this page with nbviewer.org.</b></div><div class=\"sk-container\" hidden><div class=\"sk-item\"><div class=\"sk-estimator sk-toggleable\"><input class=\"sk-toggleable__control sk-hidden--visually\" id=\"sk-estimator-id-1\" type=\"checkbox\" checked><label for=\"sk-estimator-id-1\" class=\"sk-toggleable__label sk-toggleable__label-arrow\">NearestNeighbors</label><div class=\"sk-toggleable__content\"><pre>NearestNeighbors(algorithm=&#x27;brute&#x27;)</pre></div></div></div></div></div>"
      ],
      "text/plain": [
       "NearestNeighbors(algorithm='brute')"
      ]
     },
     "execution_count": 69,
     "metadata": {},
     "output_type": "execute_result"
    }
   ],
   "source": [
    "#Criando e treinando o modelo preditivo\n",
    "modelo = NearestNeighbors(algorithm = 'brute')\n",
    "modelo.fit(filmes_sparse)"
   ]
  },
  {
   "cell_type": "markdown",
   "id": "801c3784",
   "metadata": {},
   "source": [
    "# PREVISÕES"
   ]
  },
  {
   "cell_type": "code",
   "execution_count": 71,
   "id": "d602ab20",
   "metadata": {},
   "outputs": [
    {
     "name": "stdout",
     "output_type": "stream",
     "text": [
      "Index(['127 Hours', 'American Hustle', 'The Expendables 2', 'Lord of War',\n",
      "       'RED 2'],\n",
      "      dtype='object', name='TITULO')\n"
     ]
    }
   ],
   "source": [
    "#distaces = armazena distancia entre os objetos vizinhos\n",
    "#sugestions = Esta variável provavelmente contém os índices ou identificadores dos filmes que são os k vizinhos mais próximos do filme\n",
    "#modelo.kneighbors = os vizinhos mais próximos, ou seja, as recomendações \n",
    "#item = o filme\n",
    "#values = o valor retornado\n",
    "#reshape(1,-1) = o formato da matriz retornada em uma unica linha\n",
    "\n",
    "#FILME 127 Hours\n",
    "distances,sugestions = modelo.kneighbors(filmes_pivot.filter(items=['127 Hours'],axis=0).values.reshape(1,-1))\n",
    "\n",
    "for i in range(len(sugestions)):\n",
    "    print(filmes_pivot.index[sugestions[i]])"
   ]
  },
  {
   "cell_type": "code",
   "execution_count": 72,
   "id": "63266170",
   "metadata": {},
   "outputs": [
    {
     "name": "stdout",
     "output_type": "stream",
     "text": [
      "Index(['Toy Story', 'Meet the Fockers', 'Top Gun',\n",
      "       'Harry Potter and the Chamber of Secrets',\n",
      "       'Austin Powers: International Man of Mystery'],\n",
      "      dtype='object', name='TITULO')\n"
     ]
    }
   ],
   "source": [
    "#Toy Story\n",
    "distances,sugestions = modelo.kneighbors(filmes_pivot.filter(items=['Toy Story'],axis=0).values.reshape(1,-1))\n",
    "\n",
    "for i in range(len(sugestions)):\n",
    "    print(filmes_pivot.index[sugestions[i]])"
   ]
  },
  {
   "cell_type": "code",
   "execution_count": 73,
   "id": "6a086f16",
   "metadata": {},
   "outputs": [
    {
     "name": "stdout",
     "output_type": "stream",
     "text": [
      "Index(['2 Fast 2 Furious', 'Bambi', 'The Matrix Reloaded',\n",
      "       'Brokeback Mountain', 'Lord of War'],\n",
      "      dtype='object', name='TITULO')\n"
     ]
    }
   ],
   "source": [
    "#2 Fast 2 Furious\n",
    "distances,sugestions = modelo.kneighbors(filmes_pivot.filter(items=['2 Fast 2 Furious'],axis=0).values.reshape(1,-1))\n",
    "\n",
    "for i in range(len(sugestions)):\n",
    "    print(filmes_pivot.index[sugestions[i]])"
   ]
  },
  {
   "cell_type": "code",
   "execution_count": null,
   "id": "4de63fa5",
   "metadata": {},
   "outputs": [],
   "source": []
  }
 ],
 "metadata": {
  "kernelspec": {
   "display_name": "Python 3 (ipykernel)",
   "language": "python",
   "name": "python3"
  },
  "language_info": {
   "codemirror_mode": {
    "name": "ipython",
    "version": 3
   },
   "file_extension": ".py",
   "mimetype": "text/x-python",
   "name": "python",
   "nbconvert_exporter": "python",
   "pygments_lexer": "ipython3",
   "version": "3.11.3"
  }
 },
 "nbformat": 4,
 "nbformat_minor": 5
}
